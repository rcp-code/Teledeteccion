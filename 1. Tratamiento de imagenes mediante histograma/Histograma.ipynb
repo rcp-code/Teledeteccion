{
 "cells": [
  {
   "cell_type": "code",
   "execution_count": 1,
   "metadata": {},
   "outputs": [],
   "source": [
    "import cv2\n",
    "import numpy as np\n",
    "import matplotlib.pyplot as plt\n",
    "%matplotlib inline"
   ]
  },
  {
   "cell_type": "code",
   "execution_count": 2,
   "metadata": {},
   "outputs": [
    {
     "name": "stdout",
     "output_type": "stream",
     "text": [
      "[[ 95  90  93 ... 206 201 196]\n",
      " [ 94  90  93 ... 192 188 189]\n",
      " [ 92  88  92 ... 180 182 191]\n",
      " ...\n",
      " [ 74  65  73 ...  41  42  44]\n",
      " [ 74  70  73 ...  43  44  45]\n",
      " [ 76  75  69 ...  39  39  38]]\n"
     ]
    }
   ],
   "source": [
    "img=cv2.imread('../imgpack/Monobanda/7_Lake Erie.jpg',cv2.IMREAD_GRAYSCALE)\n",
    "print(img)"
   ]
  },
  {
   "cell_type": "markdown",
   "metadata": {},
   "source": [
    "<h2>Histograma</h2>\n",
    "<p>Calcularemos el histograma de una imagen monobanda y lo visualizaremos en pantalla.</p>"
   ]
  },
  {
   "cell_type": "code",
   "execution_count": 3,
   "metadata": {},
   "outputs": [],
   "source": [
    "def Histograma(imagen):\n",
    "    h={x:0 for x in range(256)}   #Diccionario generado con valores de x dentro del rango [0, 255] y cuyos valores son 0\n",
    "    for x in imagen:\n",
    "        for y in x:\n",
    "            h[y]=h[y]+1           #se introducen los valores del histograma \n",
    "    plt.bar(h.keys(),h.values())  #función diagrama de barras de matplotlib.pyplot para visualizar el histograma "
   ]
  },
  {
   "cell_type": "code",
   "execution_count": 4,
   "metadata": {},
   "outputs": [
    {
     "data": {
      "image/png": "[encoded data removed]",
      "text/plain": [
       "<Figure size 432x288 with 1 Axes>"
      ]
     },
     "metadata": {
      "needs_background": "light"
     },
     "output_type": "display_data"
    }
   ],
   "source": [
    "Histograma(img)"
   ]
  },
  {
   "cell_type": "code",
   "execution_count": 5,
   "metadata": {},
   "outputs": [
    {
     "data": {
      "image/png": "[encoded data removed]",
      "text/plain": [
       "<Figure size 432x288 with 1 Axes>"
      ]
     },
     "metadata": {
      "needs_background": "light"
     },
     "output_type": "display_data"
    }
   ],
   "source": [
    "#Comprobación:\n",
    "plt.hist(img.ravel(),256,[0,256])\n",
    "plt.show()"
   ]
  }
 ],
 "metadata": {
  "kernelspec": {
   "display_name": "Python 3",
   "language": "python",
   "name": "python3"
  },
  "language_info": {
   "codemirror_mode": {
    "name": "ipython",
    "version": 3
   },
   "file_extension": ".py",
   "mimetype": "text/x-python",
   "name": "python",
   "nbconvert_exporter": "python",
   "pygments_lexer": "ipython3",
   "version": "3.7.3"
  }
 },
 "nbformat": 4,
 "nbformat_minor": 4
}
