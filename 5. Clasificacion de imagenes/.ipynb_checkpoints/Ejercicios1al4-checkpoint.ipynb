{
 "cells": [
  {
   "cell_type": "code",
   "execution_count": 1,
   "metadata": {},
   "outputs": [],
   "source": [
    "import cv2\n",
    "import numpy as np\n",
    "import matplotlib.pyplot as plt\n",
    "import random\n",
    "import math"
   ]
  },
  {
   "cell_type": "markdown",
   "metadata": {},
   "source": [
    "<h2>Ejercicio 1</h2>\n",
    "<p>Escriba una función llamada <b>isodata</b> que lleve a cabo la clasificación no supervisada de una imagen. Tenga en cuenta los siguientes aspectos:</p>\n",
    "<p>• Debe realizar la clasificación mediante el algoritmo ISODATA.</p>\n",
    "<p>• La función, además de la imagen original, recibirá como parámetro de entrada el número C de clases a utilizar en el proceso.</p>\n",
    "<p>• Una vez finalizada la clasificación, debe aplicar un procedimiento de seudocolor antes de la visualización de los resultados con objeto de que cada clase se muestre en diferente color.</p>"
   ]
  },
  {
   "cell_type": "code",
   "execution_count": 2,
   "metadata": {},
   "outputs": [],
   "source": [
    "def isodata(img, C):\n",
    "    v=np.zeros((C, img.shape[2]))\n",
    "    #Calcular los centros aleatorios para las clases (C).\n",
    "    #En una primera iteración fijaremos estos valores para depurar nuestra función con los valores que esperamos.\n",
    "    v[0:]=(30.,60.,30.)   #terna RGB \n",
    "    v[1:]=(60.,70.,30.)\n",
    "    v[2:]=(20.,40.,20.)\n",
    "    v[3:]=(100.,150.,40.)\n",
    "    \n",
    "    #Crear resimg (imagen resultado):\n",
    "    resimg=np.ones((img.shape[0], img.shape[1]), dtype=int)\n",
    "    \n",
    "    #Clasificar píxeles y recalcular centros:\n",
    "    posCDistintos=True\n",
    "    it=0\n",
    "    cAnterior=0\n",
    "    while posCDistintos:\n",
    "        vc=v.copy()\n",
    "        resimg, centros=clasifica(img,resimg,v)\n",
    "        #Se recalculan los centros:\n",
    "        for i in range(len(centros)):\n",
    "            if len(centros[i])>0:            \n",
    "                v[i]=recalculoCentro(centros[i])\n",
    "        \n",
    "        #Compruebo si los centros nuevos son distintos de los anteriores:\n",
    "        iguales=True\n",
    "        for i in range(v.shape[0]):\n",
    "            for j in range(v.shape[1]):\n",
    "                if (vc[i][j]-v[i][j])==0:\n",
    "                    iguales=True\n",
    "                else:\n",
    "                    iguales=False\n",
    "        if iguales:\n",
    "            posCDistintos=False\n",
    "        it=it+1\n",
    "    \n",
    "    return resimg\n",
    "\n",
    "#Función que calcula la distancia euclidiana:\n",
    "def dist_euclidiana(img,centros):\n",
    "    dist=list()\n",
    "    for c in centros:\n",
    "        d=np.sqrt((np.power((img[0]-c[0]),2))+(np.power((img[1]-c[1]),2))+(np.power((img[2]-c[2]),2)))\n",
    "        dist.append(d)\n",
    "    return dist\n",
    "\n",
    "#Función de clasificación:\n",
    "def clasifica(img, resimg, centros):\n",
    "    lista_centros=list()\n",
    "    for x in range(centros.shape[0]):\n",
    "        lista_centros.append(list())\n",
    "    \n",
    "    for i in range(img.shape[0]):\n",
    "        for j in range(img.shape[1]):\n",
    "            if img[i,j][0]==0 and img[i,j][1]==0 and img[i,j][2]==0:\n",
    "                resimg[i,j]=0\n",
    "            else:\n",
    "                dist=dist_euclidiana(img[i][j],centros)\n",
    "                c=dist.index(min(dist)) #se elige el de menor distancia\n",
    "                lista_centros[c].append((img[i,j][0],img[i,j][1],img[i,j][2]))\n",
    "                resimg[i,j]=c+1\n",
    "                \n",
    "    return resimg, lista_centros\n",
    "\n",
    "#Función para calcular el nuevo centro:\n",
    "def recalculoCentro(centros):\n",
    "    c1_valormedio=0\n",
    "    c2_valormedio=0\n",
    "    c3_valormedio=0\n",
    "    for tc in centros:\n",
    "        if len(tc)>0:\n",
    "            c1_valormedio+=tc[0]\n",
    "            c2_valormedio+=tc[1]\n",
    "            c3_valormedio+=tc[2]\n",
    "    nuevo_centro=(c1_valormedio/len(centros),c2_valormedio/len(centros),c3_valormedio/len(centros))\n",
    "    return nuevo_centro"
   ]
  },
  {
   "cell_type": "code",
   "execution_count": 3,
   "metadata": {},
   "outputs": [
    {
     "data": {
      "text/plain": [
       "<matplotlib.image.AxesImage at 0x24f5a9d0ba8>"
      ]
     },
     "execution_count": 3,
     "metadata": {},
     "output_type": "execute_result"
    },
    {
     "data": {
      "image/png": "[encoded data removed]",
      "text/plain": [
       "<Figure size 432x288 with 1 Axes>"
      ]
     },
     "metadata": {
      "needs_background": "light"
     },
     "output_type": "display_data"
    }
   ],
   "source": [
    "#Generar un degradado 5x5.\n",
    "tam=5\n",
    "b1=np.zeros([tam,tam,1],dtype=np.uint8)\n",
    "b2=np.zeros([tam,tam,1],dtype=np.uint8)\n",
    "b3=np.zeros([tam,tam,1],dtype=np.uint8)\n",
    "\n",
    "i=0\n",
    "while i<b1.shape[0]:\n",
    "    j=0\n",
    "    while j<b1.shape[1]:\n",
    "        b1[i,j]=j*20+i*30\n",
    "        b2[i,j]=j*12+i*40\n",
    "        b3[i,j]=j*15+i*10\n",
    "        j=j+1\n",
    "    i=i+1\n",
    "\n",
    "img=cv2.merge((b1,b2,b3))\n",
    "\n",
    "plt.figure(1)\n",
    "plt.imshow(img)"
   ]
  },
  {
   "cell_type": "code",
   "execution_count": 4,
   "metadata": {},
   "outputs": [
    {
     "name": "stdout",
     "output_type": "stream",
     "text": [
      "[[0 3 3 1 2]\n",
      " [3 1 2 2 2]\n",
      " [1 2 2 4 4]\n",
      " [2 4 4 4 4]\n",
      " [4 4 4 4 4]]\n"
     ]
    }
   ],
   "source": [
    "res=isodata(img, 4)\n",
    "print(res)"
   ]
  },
  {
   "cell_type": "code",
   "execution_count": 5,
   "metadata": {},
   "outputs": [],
   "source": [
    "#Colorea con seudocolor el resultado de la clasificación.\n",
    "def seudo(img):\n",
    "    resimg=np.zeros((img.shape[0],img.shape[1],3),np.uint8)\n",
    "    i=0\n",
    "    while i<img.shape[0]:\n",
    "        j=0\n",
    "        while j<img.shape[1]:\n",
    "            if img[i,j]==0:\n",
    "                resimg[i,j,:]=[255,0,0]\n",
    "            elif img[i,j]==1:\n",
    "                resimg[i,j,:]=[0,255,0]\n",
    "            elif img[i,j]==2:\n",
    "                resimg[i,j,:]=[0,0,255]\n",
    "            elif img[i,j]==3:\n",
    "                resimg[i,j,:]=[255,255,0]\n",
    "            elif img[i,j]==4:\n",
    "                resimg[i,j,:]=[0,255,255]\n",
    "            elif img[i,j]==5:\n",
    "                resimg[i,j,:]=[255,0,255]\n",
    "            else:\n",
    "                resimg[i,j,:]=[0,0,0]\n",
    "            j=j+1\n",
    "        i=i+1\n",
    "    return resimg"
   ]
  },
  {
   "cell_type": "code",
   "execution_count": 6,
   "metadata": {},
   "outputs": [
    {
     "data": {
      "text/plain": [
       "<matplotlib.image.AxesImage at 0x24f5aa7d550>"
      ]
     },
     "execution_count": 6,
     "metadata": {},
     "output_type": "execute_result"
    },
    {
     "data": {
      "image/png": "[encoded data removed]",
      "text/plain": [
       "<Figure size 432x288 with 1 Axes>"
      ]
     },
     "metadata": {
      "needs_background": "light"
     },
     "output_type": "display_data"
    }
   ],
   "source": [
    "res_seudo=seudo(res)\n",
    "plt.figure(2)\n",
    "plt.imshow(res_seudo)"
   ]
  },
  {
   "cell_type": "markdown",
   "metadata": {},
   "source": [
    "<h2>Ejercicio 2</h2>\n",
    "<p>Tras verificar el paso anterior, ahora implementaremos la selección aleatoria de centros para calcular el vector v en función del número de clases que recibimos a la entrada. Tras realizar esta modificación, ajusta el generador de degradado para que nos genere ahora un degradado de mayor tamaño.</p>"
   ]
  },
  {
   "cell_type": "code",
   "execution_count": 7,
   "metadata": {},
   "outputs": [],
   "source": [
    "def isodata2(img, C):\n",
    "    #Cálculo aleatorio de valores del vector v:\n",
    "    v=np.zeros((C, img.shape[2]))\n",
    "    for i in range(v.shape[0]):\n",
    "        v[i:]=(random.randint(0,255),random.randint(0,255),random.randint(0,255))\n",
    "    \n",
    "    #Crear resimg (imagen resultado):\n",
    "    resimg=np.ones((img.shape[0], img.shape[1]), dtype=int)\n",
    "    \n",
    "    #TODO: Clasificar píxeles.\n",
    "    posCDistintos=True\n",
    "    it=0\n",
    "    cAnterior=0\n",
    "    while posCDistintos:\n",
    "        vc=v.copy()\n",
    "        resimg, centros=clasifica(img,resimg,v)\n",
    "        #Se recalculan los centros:\n",
    "        for i in range(len(centros)):\n",
    "            if len(centros[i])>0:            \n",
    "                v[i]=recalculoCentro(centros[i])\n",
    "        \n",
    "        #Compruebo si los centros nuevos son distintos de los anteriores:\n",
    "        iguales=True\n",
    "        for i in range(v.shape[0]):\n",
    "            for j in range(v.shape[1]):\n",
    "                if (vc[i][j]-v[i][j])==0:\n",
    "                    iguales=True\n",
    "                else:\n",
    "                    iguales=False\n",
    "        if iguales:\n",
    "            posCDistintos=False\n",
    "        it=it+1\n",
    "    \n",
    "    return resimg"
   ]
  },
  {
   "cell_type": "code",
   "execution_count": 8,
   "metadata": {},
   "outputs": [
    {
     "data": {
      "text/plain": [
       "True"
      ]
     },
     "execution_count": 8,
     "metadata": {},
     "output_type": "execute_result"
    },
    {
     "data": {
      "image/png": "[encoded data removed]",
      "text/plain": [
       "<Figure size 432x288 with 1 Axes>"
      ]
     },
     "metadata": {
      "needs_background": "light"
     },
     "output_type": "display_data"
    }
   ],
   "source": [
    "tam=100\n",
    "b1=np.zeros([tam,tam,1],dtype=np.uint8)\n",
    "b2=np.zeros([tam,tam,1],dtype=np.uint8)\n",
    "b3=np.zeros([tam,tam,1],dtype=np.uint8)\n",
    "\n",
    "i=0\n",
    "while i<b1.shape[0]:\n",
    "    j=0\n",
    "    while j<b1.shape[1]:\n",
    "        b1[i,j]=j*2+i*0.5\n",
    "        b2[i,j]=j*0.5+i*2\n",
    "        b3[i,j]=j*1.5+i*1\n",
    "        j=j+1\n",
    "    i=i+1\n",
    "img_deg100=cv2.merge((b1,b2,b3))\n",
    "plt.figure(3)\n",
    "plt.imshow(img_deg100)\n",
    "cv2.imwrite(\"clasificaciones/Ej2_degradado100.png\",img_deg100)"
   ]
  },
  {
   "cell_type": "code",
   "execution_count": 10,
   "metadata": {},
   "outputs": [
    {
     "data": {
      "text/plain": [
       "<matplotlib.image.AxesImage at 0x24f5acee6a0>"
      ]
     },
     "execution_count": 10,
     "metadata": {},
     "output_type": "execute_result"
    },
    {
     "data": {
      "image/png": "[encoded data removed]",
      "text/plain": [
       "<Figure size 432x288 with 1 Axes>"
      ]
     },
     "metadata": {
      "needs_background": "light"
     },
     "output_type": "display_data"
    }
   ],
   "source": [
    "res=isodata2(img_deg100,6)\n",
    "res_seudo=seudo(res)\n",
    "plt.figure(4)\n",
    "plt.imshow(res_seudo)"
   ]
  },
  {
   "cell_type": "markdown",
   "metadata": {},
   "source": [
    "<h2>Ejercicio 3</h2>\n",
    "<p>Compruebe el funcionamiento de la función <b>isodata</b> aplicándola a las imágenes con la C correspondiente. Implemente y observe el resultado obtenido.</p>"
   ]
  },
  {
   "cell_type": "code",
   "execution_count": 33,
   "metadata": {},
   "outputs": [
    {
     "data": {
      "text/plain": [
       "True"
      ]
     },
     "execution_count": 33,
     "metadata": {},
     "output_type": "execute_result"
    },
    {
     "data": {
      "image/png": "[encoded data removed]",
      "text/plain": [
       "<Figure size 432x288 with 1 Axes>"
      ]
     },
     "metadata": {
      "needs_background": "light"
     },
     "output_type": "display_data"
    }
   ],
   "source": [
    "#Para IRS A con C=2\n",
    "img_irsa=cv2.imread('../imgpack/IRS A/IRS_A_1-1_PAN.png')\n",
    "res=isodata2(img_irsa,2)\n",
    "res_seudo=seudo(res)\n",
    "plt.figure(5)\n",
    "plt.imshow(res_seudo)\n",
    "cv2.imwrite(\"clasificaciones/Ej3_clasificacion_IRS_A.png\",res_seudo)"
   ]
  },
  {
   "cell_type": "code",
   "execution_count": 34,
   "metadata": {},
   "outputs": [
    {
     "data": {
      "text/plain": [
       "True"
      ]
     },
     "execution_count": 34,
     "metadata": {},
     "output_type": "execute_result"
    },
    {
     "data": {
      "image/png": "[encoded data removed]",
      "text/plain": [
       "<Figure size 432x288 with 1 Axes>"
      ]
     },
     "metadata": {
      "needs_background": "light"
     },
     "output_type": "display_data"
    }
   ],
   "source": [
    "#Para NOAA con C=3\n",
    "b1=cv2.imread('../imgpack/NOAA/NOAA_1-5_R.png',cv2.IMREAD_GRAYSCALE)\n",
    "b2=cv2.imread('../imgpack/NOAA/NOAA_2-5_NIR.png',cv2.IMREAD_GRAYSCALE)\n",
    "b3=cv2.imread('../imgpack/NOAA/NOAA_3-5_SWIR.png',cv2.IMREAD_GRAYSCALE)\n",
    "\n",
    "img_noaa=cv2.merge((b1,b2,b3))\n",
    "\n",
    "res=isodata2(img_noaa,3)\n",
    "res_seudo=seudo(res)\n",
    "plt.figure(6)\n",
    "plt.imshow(res_seudo)\n",
    "cv2.imwrite(\"clasificaciones/Ej3_clasificacion_NOAA.png\",res_seudo)"
   ]
  },
  {
   "cell_type": "markdown",
   "metadata": {},
   "source": [
    "<h2>Ejercicio 4</h2>\n",
    "<p>El paso de la borrasca Filomena ha dejado tras de sí una imagen peculiar de la península ibérica. Vamos a aplicar a continuacón lo aprendido para clasificar las zonas de la imagen proporcionada. Si el tiempo es muy grande, se puede realizar un diezmado previamente tal y como se muestra en el resultado.</p>"
   ]
  },
  {
   "cell_type": "code",
   "execution_count": 31,
   "metadata": {},
   "outputs": [],
   "source": [
    "def diezmado(img,r):\n",
    "    listaND=list()\n",
    "    i=0\n",
    "    while i<img.shape[0]:\n",
    "        j=0\n",
    "        while j<img.shape[1]:\n",
    "            listaND.append(img[i,j])\n",
    "            j=j+int(1/r)\n",
    "        i=i+int(1/r)    \n",
    "    resimg=np.reshape(listaND,[int(np.ceil(img.shape[0]/(np.round(1/r)))),int(np.ceil(img.shape[1]/(np.round(1/r))))])\n",
    "    return resimg"
   ]
  },
  {
   "cell_type": "code",
   "execution_count": null,
   "metadata": {},
   "outputs": [],
   "source": [
    "filomena=cv2.imread('../imgpack/Filomena.jpg')\n",
    "b1,b2,b3=cv2.split(filomena)\n",
    "b1_diezmado=diezmado(b1,0.1)\n",
    "b2_diezmado=diezmado(b2,0.1)\n",
    "b3_diezmado=diezmado(b3,0.1)\n",
    "filomena_diezmado=cv2.merge((b1_diezmado,b2_diezmado,b3_diezmado))\n",
    "filomena_isodata=isodata(filomena_diezmado,4)\n",
    "filomena_seudo=seudo(filomena_isodata)\n",
    "\n",
    "plt.figure(figsize=(10, 10))\n",
    "plt.imshow(cv2.cvtColor(filomena, cv2.COLOR_BGR2RGB))\n",
    "plt.title(\"Original\", fontsize=20)\n",
    "plt.figure(figsize=(10, 10))\n",
    "plt.imshow(cv2.cvtColor(filomena_seudo, cv2.COLOR_BGR2RGB))\n",
    "plt.title(\"Clasificación\", fontsize=20)\n",
    "plt.show()"
   ]
  },
  {
   "cell_type": "code",
   "execution_count": 35,
   "metadata": {},
   "outputs": [
    {
     "data": {
      "text/plain": [
       "True"
      ]
     },
     "execution_count": 35,
     "metadata": {},
     "output_type": "execute_result"
    }
   ],
   "source": [
    "cv2.imwrite(\"clasificaciones/Ej4_Filomena_Clasificacion.png\",filomena_seudo)"
   ]
  },
  {
   "cell_type": "code",
   "execution_count": null,
   "metadata": {},
   "outputs": [],
   "source": []
  }
 ],
 "metadata": {
  "kernelspec": {
   "display_name": "Python 3",
   "language": "python",
   "name": "python3"
  },
  "language_info": {
   "codemirror_mode": {
    "name": "ipython",
    "version": 3
   },
   "file_extension": ".py",
   "mimetype": "text/x-python",
   "name": "python",
   "nbconvert_exporter": "python",
   "pygments_lexer": "ipython3",
   "version": "3.7.3"
  }
 },
 "nbformat": 4,
 "nbformat_minor": 4
}
