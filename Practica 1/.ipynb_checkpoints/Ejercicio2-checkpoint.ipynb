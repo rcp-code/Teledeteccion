{
 "cells": [
  {
   "cell_type": "code",
   "execution_count": 1,
   "metadata": {},
   "outputs": [],
   "source": [
    "#Función factorial definida de forma analítica\n",
    "def facto1(N):\n",
    "    f=1\n",
    "    i=1\n",
    "    while i<=N:\n",
    "        f=f*i\n",
    "        i=i+1\n",
    "    return f"
   ]
  },
  {
   "cell_type": "code",
   "execution_count": 2,
   "metadata": {},
   "outputs": [],
   "source": [
    "#Función factorial definida de forma recursiva\n",
    "def facto2(N):\n",
    "    if N==1:\n",
    "        return N\n",
    "    else:\n",
    "        return N*facto2(N-1)"
   ]
  },
  {
   "cell_type": "code",
   "execution_count": 3,
   "metadata": {},
   "outputs": [
    {
     "name": "stdout",
     "output_type": "stream",
     "text": [
      "1 1\n",
      "2 2\n",
      "6 6\n",
      "24 24\n",
      "120 120\n",
      "720 720\n"
     ]
    }
   ],
   "source": [
    "import numpy\n",
    "x=numpy.arange(1,7,1) #Generamos un array de valores del 1 al 6.\n",
    "\n",
    "for number in x:\n",
    "    print(facto1(number), facto2(number))"
   ]
  },
  {
   "cell_type": "code",
   "execution_count": null,
   "metadata": {},
   "outputs": [],
   "source": []
  }
 ],
 "metadata": {
  "kernelspec": {
   "display_name": "Python 3",
   "language": "python",
   "name": "python3"
  },
  "language_info": {
   "codemirror_mode": {
    "name": "ipython",
    "version": 3
   },
   "file_extension": ".py",
   "mimetype": "text/x-python",
   "name": "python",
   "nbconvert_exporter": "python",
   "pygments_lexer": "ipython3",
   "version": "3.8.3"
  }
 },
 "nbformat": 4,
 "nbformat_minor": 4
}
